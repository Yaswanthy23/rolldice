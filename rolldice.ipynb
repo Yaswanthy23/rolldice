{
 "cells": [
  {
   "cell_type": "code",
   "execution_count": null,
   "id": "a5c19f4b",
   "metadata": {},
   "outputs": [
    {
     "name": "stdout",
     "output_type": "stream",
     "text": [
      "The number came up on dice is : 6\n",
      "Do you want to continue\n",
      " write yes or no:yes\n",
      "The number came up on dice is : 3\n",
      "Do you want to continue\n",
      " write yes or no:yes\n",
      "The number came up on dice is : 3\n",
      "Do you want to continue\n",
      " write yes or no:yes\n",
      "The number came up on dice is : 5\n",
      "Do you want to continue\n",
      " write yes or no:yes\n",
      "The number came up on dice is : 1\n",
      "Do you want to continue\n",
      " write yes or no:yes\n",
      "The number came up on dice is : 6\n",
      "Do you want to continue\n",
      " write yes or no:"
     ]
    }
   ],
   "source": [
    "import random\n",
    "k=\"yes\"\n",
    "while k==\"yes\":\n",
    "    print(\"The number came up on dice is :\",random.randint(1,6))\n",
    "    print(\"Do you want to continue\\n write yes or no:\",end=\"\")\n",
    "    x=input()\n",
    "    if x==\"no\":\n",
    "        break;\n",
    "      "
   ]
  },
  {
   "cell_type": "code",
   "execution_count": null,
   "id": "7af7f352",
   "metadata": {},
   "outputs": [],
   "source": []
  }
 ],
 "metadata": {
  "kernelspec": {
   "display_name": "Python 3 (ipykernel)",
   "language": "python",
   "name": "python3"
  },
  "language_info": {
   "codemirror_mode": {
    "name": "ipython",
    "version": 3
   },
   "file_extension": ".py",
   "mimetype": "text/x-python",
   "name": "python",
   "nbconvert_exporter": "python",
   "pygments_lexer": "ipython3",
   "version": "3.9.12"
  }
 },
 "nbformat": 4,
 "nbformat_minor": 5
}
